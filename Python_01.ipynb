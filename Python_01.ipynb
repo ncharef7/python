{
 "cells": [
  {
   "cell_type": "markdown",
   "metadata": {},
   "source": [
    "# Python\n"
   ]
  },
  {
   "cell_type": "markdown",
   "metadata": {},
   "source": [
    "### Intro"
   ]
  },
  {
   "cell_type": "markdown",
   "metadata": {},
   "source": [
    "Nous voici sur Jupyter Notebook un logiciel 100% open-source.  \n",
    "C'est un environnement de calcul interactif basé sur une interface web.  \n",
    "Chaque cellules est independantes mais conserve les variables déclarer au préalable,  \n",
    "elles peuvent contenir du code, du texte(brut) ou des markdown.  \n",
    "Executer une cellule se fait soit par le bouton ▶ soit par le raccourcis Ctrl+Enter ou Shift+Enter.  \n"
   ]
  },
  {
   "cell_type": "markdown",
   "metadata": {},
   "source": [
    "### Tips"
   ]
  },
  {
   "cell_type": "markdown",
   "metadata": {},
   "source": [
    "### 1)"
   ]
  },
  {
   "cell_type": "markdown",
   "metadata": {},
   "source": [
    "il est possible grâce a \"!\" d'executer directement une commande   \n",
    "dans le terminal dans le dossier courant\n",
    "tester les commandes suivantes:"
   ]
  },
  {
   "cell_type": "code",
   "execution_count": 10,
   "metadata": {},
   "outputs": [
    {
     "name": "stdout",
     "output_type": "stream",
     "text": [
      " Le volume dans le lecteur C s'appelle OS\n",
      " Le num‚ro de s‚rie du volume est 6C71-E091\n",
      "\n",
      " R‚pertoire de C:\\Users\\nchar\\Documents\\Mirror\\Ipssi\\Python\\nb_ipssi\\nb_ipssi\n",
      "\n",
      "28/09/2020  09:38    <DIR>          .\n",
      "28/09/2020  09:38    <DIR>          ..\n",
      "28/09/2020  09:24             6ÿ148 .DS_Store\n",
      "28/09/2020  09:24    <DIR>          .ipynb_checkpoints\n",
      "28/09/2020  09:24    <DIR>          images\n",
      "28/09/2020  09:38            15ÿ242 Python_01.ipynb\n",
      "               2 fichier(s)           21ÿ390 octets\n",
      "               4 R‚p(s)  209ÿ931ÿ460ÿ608 octets libres\n"
     ]
    }
   ],
   "source": [
    "ls"
   ]
  },
  {
   "cell_type": "code",
   "execution_count": 14,
   "metadata": {},
   "outputs": [
    {
     "name": "stdout",
     "output_type": "stream",
     "text": [
      "Requirement already satisfied: pandas in c:\\users\\nchar\\anaconda3\\lib\\site-packages (1.0.5)\n",
      "Requirement already satisfied: python-dateutil>=2.6.1 in c:\\users\\nchar\\anaconda3\\lib\\site-packages (from pandas) (2.8.1)\n",
      "Requirement already satisfied: numpy>=1.13.3 in c:\\users\\nchar\\anaconda3\\lib\\site-packages (from pandas) (1.18.5)\n",
      "Requirement already satisfied: pytz>=2017.2 in c:\\users\\nchar\\anaconda3\\lib\\site-packages (from pandas) (2020.1)\n",
      "Requirement already satisfied: six>=1.5 in c:\\users\\nchar\\anaconda3\\lib\\site-packages (from python-dateutil>=2.6.1->pandas) (1.15.0)\n",
      "Note: you may need to restart the kernel to use updated packages.\n"
     ]
    }
   ],
   "source": [
    "pip install pandas"
   ]
  },
  {
   "cell_type": "code",
   "execution_count": 15,
   "metadata": {},
   "outputs": [],
   "source": [
    "import pandas as pd "
   ]
  },
  {
   "cell_type": "markdown",
   "metadata": {},
   "source": [
    "### 2)"
   ]
  },
  {
   "cell_type": "markdown",
   "metadata": {},
   "source": [
    "L'une des choses les plus utiles à propos des notebook  \n",
    "est la complétion placer le curseur apres la parenthese puis  \n",
    "- appuyer sur Shift+Tab 1 fois:  \n",
    "    \n",
    "<div align=\"center\">\n",
    "<img src=\"images/tab-once.png\" width=\"75%\">\n",
    "</div>  \n",
    "\n",
    "- appuyer sur Shift+Tab une seconde fois:\n",
    "  \n",
    "<div align=\"center\">\n",
    "<img src=\"files/images/tab-twice.png\" width=\"75%\">\n",
    "</div>  \n",
    "\n",
    "- appuyer sur Shift+Tab encore 2 fois:\n",
    "  \n",
    "<div align=\"center\">\n",
    "<img src=\"files/images/tab-4-times.png\" width=\"90%\">\n",
    "</div>   \n",
    " \n",
    "- essayez dans la cellule ci-dessous "
   ]
  },
  {
   "cell_type": "code",
   "execution_count": null,
   "metadata": {},
   "outputs": [],
   "source": [
    "pd.read_csv("
   ]
  },
  {
   "cell_type": "markdown",
   "metadata": {},
   "source": [
    "Assez simplement vous aurez acces a la signature,  \n",
    "la docstring, de la fonction voir meme quelques exemples  \n",
    "si les createur de la librairie sont sympa"
   ]
  },
  {
   "cell_type": "markdown",
   "metadata": {},
   "source": [
    "### 3)"
   ]
  },
  {
   "cell_type": "markdown",
   "metadata": {},
   "source": [
    "Une autre facon assez simple d'explorer un objet python  \n",
    "est de placer un point deriere l objet et de d'utiliser la touche Tab:\n",
    "\n",
    "<div align=\"center\">\n",
    "<img src=\"files/images/function-completion.png\" width=\"30%\">\n",
    "</div>  \n",
    "\n",
    "- essayez dans la cellule ci-dessous "
   ]
  },
  {
   "cell_type": "code",
   "execution_count": null,
   "metadata": {},
   "outputs": [],
   "source": [
    "pd.r"
   ]
  },
  {
   "cell_type": "markdown",
   "metadata": {},
   "source": [
    "Si vous voulez plus de tips sur les differentes  \n",
    "fonctionalité de jupyter notebook\n",
    "essayez la commande suivantes :  \n",
    "`%quickref`\n"
   ]
  },
  {
   "cell_type": "markdown",
   "metadata": {},
   "source": [
    "## Partie 1"
   ]
  },
  {
   "cell_type": "markdown",
   "metadata": {},
   "source": [
    "## les Variables"
   ]
  },
  {
   "cell_type": "markdown",
   "metadata": {},
   "source": [
    "1) Créer les variable suivantes avec les differents types et leurs valeur:\n",
    "   - nom de la variable : var1, type : integer, valeur : 123\n",
    "   - nom de la variable : var2, type : float, valeur : 12.6\n",
    "   - nom de la variable : var3, type : booléen, valeur : true\n",
    "   - nom de la variable : var4, type : string, valeur : HELLO WORD\n",
    "   - nom de la variable : var5, type : dictionnaire, valeur : vide\n",
    "   - nom de la variable : var6, type : liste, valeur : 'bordeaux','lyon','paris','bordeaux'\n",
    "   - nom de la variable : var7, type : tuple, valeur : true, 'paris', 167\n",
    "   - nom de la variable : var8, type : set, valeur : 10,15,30"
   ]
  },
  {
   "cell_type": "code",
   "execution_count": 88,
   "metadata": {},
   "outputs": [],
   "source": [
    "var1 = 123\n",
    "var2 = 12.6\n",
    "var3 = True\n",
    "var4 = \"Hello World\"\n",
    "var5 = dict()\n",
    "var6 = ['bordeaux','lyon','paris','bordeaux']\n",
    "var7 = (True,\"paris\",167)\n",
    "var8 = set(['10','15','30'])\n",
    "var = [var1,var2,var3,var4,var5,var6,var7,var8]\n"
   ]
  },
  {
   "cell_type": "markdown",
   "metadata": {},
   "source": [
    "2) Tester et afficher leur type et  \n",
    "  - ecrivez une courte definition de chacun des types."
   ]
  },
  {
   "cell_type": "code",
   "execution_count": 86,
   "metadata": {},
   "outputs": [
    {
     "name": "stdout",
     "output_type": "stream",
     "text": [
      "var 1 = 123 <class 'int'>\n",
      "var 2 = 12.6 <class 'float'>\n",
      "var 3 = True <class 'bool'>\n",
      "var 4 = Hello World <class 'str'>\n",
      "var 5 = {} <class 'dict'>\n",
      "var 6 = ['lyon', 'paris'] <class 'list'>\n",
      "var 7 = (True, 'paris', 167) <class 'tuple'>\n",
      "var 8 = {'10', '15', '30'} <class 'set'>\n"
     ]
    }
   ],
   "source": [
    "for i in range(len(var)):\n",
    "     print(\"var\",i+1, \"=\", var[i], type(var[i]))\n",
    "        \n",
    "#definition type\n",
    "#int : entier\n",
    "#float : nombre decimal avec un point\n",
    "#bool : valeur renvoyer par des test booleen, vrai ou faux\n",
    "#str : chaine de caractere \n",
    "#list : variabe contenant plusieurs variables\n",
    "#dict :variable contenant plusieurs variable sous forme de clé:valeur\n",
    "#set : dictionnaire sans valeur, ensemble de clé, une collection\n",
    "#tuple : collection ordonnée d'éléments qui ne peut plus etre modifié\n",
    "      \n",
    "    "
   ]
  },
  {
   "cell_type": "markdown",
   "metadata": {},
   "source": [
    "3) additionner la var1 et la var2  \n",
    "  - puis additionner la var1 et var3  \n",
    "  - que peut-on constater et pourquoi ?"
   ]
  },
  {
   "cell_type": "code",
   "execution_count": 41,
   "metadata": {},
   "outputs": [
    {
     "data": {
      "text/plain": [
       "124"
      ]
     },
     "execution_count": 41,
     "metadata": {},
     "output_type": "execute_result"
    }
   ],
   "source": [
    "var1 + var3\n",
    "#On constate que l'on peut addition deux nombres de type differents en l'occurence un int et un float\n",
    "#On constate aussi que l'on a peut additioner un booleen et un int car la valeur True a fait office de valeur 1 (False 0)"
   ]
  },
  {
   "cell_type": "markdown",
   "metadata": {},
   "source": [
    "4) quel est la difference entre les types des variables:\n",
    "  - var6, var7, var8"
   ]
  },
  {
   "cell_type": "code",
   "execution_count": null,
   "metadata": {},
   "outputs": [],
   "source": [
    "#Les listes sont mutables,c 'est une collection d'articles commandée et les éléments de la liste peuvent être remplacés ou modifiés\n",
    "#Les sets sont unensemble immuable, c'est une collection d'articles non ordonnée et les éléments de l'ensemble ne peuvent pas être modifiés ou remplacés\n",
    "#Tuple est immuable, c'est une collection d'articles commandée et les éléments du tuple ne peuvent pas être modifiés ou remplacés"
   ]
  },
  {
   "cell_type": "markdown",
   "metadata": {},
   "source": [
    "# 5) utiliser les methodes propre au string pour:\n",
    "   - Passer la valeur de la var4 en minuscule et le reasigné a la var4\n",
    "   - Passer la premiere lettre de chaque mot de la var4 en majuscule\n",
    "   - Transformer cette variable en liste de mots"
   ]
  },
  {
   "cell_type": "code",
   "execution_count": 110,
   "metadata": {
    "scrolled": true
   },
   "outputs": [
    {
     "ename": "TypeError",
     "evalue": "list indices must be integers or slices, not str",
     "output_type": "error",
     "traceback": [
      "\u001b[1;31m---------------------------------------------------------------------------\u001b[0m",
      "\u001b[1;31mTypeError\u001b[0m                                 Traceback (most recent call last)",
      "\u001b[1;32m<ipython-input-110-3c31368c75c1>\u001b[0m in \u001b[0;36m<module>\u001b[1;34m\u001b[0m\n\u001b[0;32m      1\u001b[0m \u001b[1;32mfor\u001b[0m \u001b[0mi\u001b[0m \u001b[1;32min\u001b[0m \u001b[0mvar4\u001b[0m\u001b[1;33m:\u001b[0m\u001b[1;33m\u001b[0m\u001b[1;33m\u001b[0m\u001b[0m\n\u001b[1;32m----> 2\u001b[1;33m     \u001b[0mvar4\u001b[0m\u001b[1;33m[\u001b[0m\u001b[0mi\u001b[0m\u001b[1;33m]\u001b[0m\u001b[1;33m[\u001b[0m\u001b[1;36m0\u001b[0m\u001b[1;33m]\u001b[0m\u001b[1;33m.\u001b[0m\u001b[0mupper\u001b[0m\u001b[1;33m(\u001b[0m\u001b[1;33m)\u001b[0m\u001b[1;33m\u001b[0m\u001b[1;33m\u001b[0m\u001b[0m\n\u001b[0m",
      "\u001b[1;31mTypeError\u001b[0m: list indices must be integers or slices, not str"
     ]
    }
   ],
   "source": [
    "var4 = var4.lower()\n",
    "print(var4)"
   ]
  },
  {
   "cell_type": "markdown",
   "metadata": {},
   "source": [
    "6) utiliser les methodes propre au liste pour:\n",
    "   - Integrer les 4 premières une variables nommée var9.\n",
    "   - Récupérer l'avant dernier élément de la liste\n",
    "   - Créer une var10 qui contient les memes valeurs que var9\n",
    "   - Additionner la var9 et la var10 quel est le resultat ? \n",
    "   \n",
    "**Bonus:**\n",
    "   - additioner les valeurs des deux listes de memes taille qui ne contiennent que des integer\n",
    "   \n",
    "\n",
    "   "
   ]
  },
  {
   "cell_type": "code",
   "execution_count": 107,
   "metadata": {},
   "outputs": [
    {
     "name": "stdout",
     "output_type": "stream",
     "text": [
      "[123, 12.6, True, 'Hello World']\n"
     ]
    }
   ],
   "source": [
    "var9 = []\n",
    "for i in range(4):\n",
    "     var9.append(var[i])\n",
    "print(var9)"
   ]
  },
  {
   "cell_type": "markdown",
   "metadata": {},
   "source": [
    "## les Boucles"
   ]
  },
  {
   "cell_type": "markdown",
   "metadata": {},
   "source": [
    "1) iterer sur la var6 aficher les valeurs et leurs index et arretez l'iteration quand vous trouvez paris"
   ]
  },
  {
   "cell_type": "code",
   "execution_count": 58,
   "metadata": {},
   "outputs": [
    {
     "name": "stdout",
     "output_type": "stream",
     "text": [
      "0 bordeaux\n",
      "1 lyon\n",
      "2 paris\n",
      "fin 2\n"
     ]
    }
   ],
   "source": [
    "for i in range(len(var6)):\n",
    "    print(i,var6[i])\n",
    "    if var6[i] == \"paris\" :\n",
    "        break\n",
    "print(\"fin\", i)\n"
   ]
  },
  {
   "cell_type": "markdown",
   "metadata": {},
   "source": [
    "2) iterer sur la var6 effacé l'element si il corespond a bordeaux"
   ]
  },
  {
   "cell_type": "code",
   "execution_count": 67,
   "metadata": {},
   "outputs": [
    {
     "name": "stdout",
     "output_type": "stream",
     "text": [
      "['lyon', 'paris']\n"
     ]
    }
   ],
   "source": [
    "while 'bordeaux' in var6:\n",
    "    var6.remove('bordeaux')\n",
    "print(var6)\n"
   ]
  },
  {
   "cell_type": "markdown",
   "metadata": {},
   "source": [
    "3) interoger indefiniment l'utisateur jusqu'a ce que la valeur corresponde a ipssi"
   ]
  },
  {
   "cell_type": "code",
   "execution_count": 68,
   "metadata": {},
   "outputs": [
    {
     "name": "stdout",
     "output_type": "stream",
     "text": [
      "Tapez ipssi : ip\n",
      "Tapez ipssi : p\n",
      "Tapez ipssi : d\n",
      "Tapez ipssi : s\n",
      "Tapez ipssi : ipssi\n",
      "Fin\n"
     ]
    }
   ],
   "source": [
    "while 1:\n",
    "    val = input(\"Tapez ipssi : \")\n",
    "    if val == \"ipssi\":\n",
    "        print(\"Fin\")\n",
    "        break"
   ]
  },
  {
   "cell_type": "markdown",
   "metadata": {},
   "source": [
    "4) iterer sur cette liste de liste/dictionnaire et afficher la somme du premier et dernier elements de chaque sous liste/dictionnaire  "
   ]
  },
  {
   "cell_type": "code",
   "execution_count": 79,
   "metadata": {},
   "outputs": [
    {
     "name": "stdout",
     "output_type": "stream",
     "text": [
      "35\n",
      "67\n",
      "39\n"
     ]
    }
   ],
   "source": [
    "liste2liste = [[1,4,2],[3,7,2],[5,7,2],[1,4,8]]\n",
    "liste2dictionnaire = [{\"premier\":12,\"deuxieme\":17,\"dernier\":23},\n",
    "                      {\"premier\":7,\"deuxieme\":30,\"dernier\":60},\n",
    "                      {\"premier\":2,\"deuxieme\":15,\"dernier\":37}]\n",
    "\n",
    "for i in liste2dictionnaire:\n",
    "    print(i[\"premier\"]+i[\"dernier\"])\n"
   ]
  },
  {
   "cell_type": "markdown",
   "metadata": {},
   "source": [
    "5) iterer sur les deux listes precedentes et retourner la somme des deuxiemes valeurs de chaque sous liste"
   ]
  },
  {
   "cell_type": "code",
   "execution_count": 112,
   "metadata": {},
   "outputs": [
    {
     "name": "stdout",
     "output_type": "stream",
     "text": [
      "21\n",
      "37\n",
      "22\n"
     ]
    }
   ],
   "source": [
    "for i,j in zip(liste2liste,liste2dictionnaire):\n",
    "    print(j[\"deuxieme\"]+i[1])"
   ]
  },
  {
   "cell_type": "markdown",
   "metadata": {},
   "source": [
    "**Bonus**  \n",
    "  - expliquez pourquoi quand je modifie la liste_1 la liste_2 se modifie aussi?\n",
    "  - comment pallier a ce probleme"
   ]
  },
  {
   "cell_type": "code",
   "execution_count": 80,
   "metadata": {},
   "outputs": [
    {
     "name": "stdout",
     "output_type": "stream",
     "text": [
      "[1, 2, 3, 4, 1, 2, 3, 4]\n",
      "[1, 2, 3, 4, 1, 2, 3, 4]\n"
     ]
    }
   ],
   "source": [
    "liste_1 = [1,2,3,4]\n",
    "liste_2 = liste_1\n",
    "liste_2 += liste_1\n",
    "print(liste_1)\n",
    "print(liste_2)"
   ]
  },
  {
   "cell_type": "markdown",
   "metadata": {},
   "source": [
    "## les Conditions"
   ]
  },
  {
   "cell_type": "markdown",
   "metadata": {},
   "source": [
    "1) en partant de cette liste creer un dictionnaire  \n",
    "qui a pour clef la valeur et comme valeur le nombre de fois qu'apparait la valeur"
   ]
  },
  {
   "cell_type": "code",
   "execution_count": 114,
   "metadata": {},
   "outputs": [
    {
     "name": "stdout",
     "output_type": "stream",
     "text": [
      "{'fr': 3, 'us': 2, 'ng': 1, 'it': 1}\n"
     ]
    }
   ],
   "source": [
    "liste = [\"fr\",\"us\",\"ng\",\"us\",\"fr\",\"it\",\"fr\"]\n",
    "dct = {} \n",
    "for item in liste:\n",
    "    dct[item] = dct.get(item,0) + 1\n",
    "print(dct)"
   ]
  },
  {
   "cell_type": "markdown",
   "metadata": {},
   "source": [
    "2) afficher la valeur correspondante a la clef si elle existe sinon afficher \"la valeurs n'existe pas\""
   ]
  },
  {
   "cell_type": "code",
   "execution_count": 119,
   "metadata": {},
   "outputs": [
    {
     "name": "stdout",
     "output_type": "stream",
     "text": [
      "entrer clé : erf\n",
      "la valeur n'existe pas\n"
     ]
    }
   ],
   "source": [
    "store = {\"reddit\":\"330 million\",\"tweeter\":\"330 million\",'facebook':\"2.7 milliard\"}\n",
    "val = input(\"entrer clé : \")\n",
    "if val in store.keys():\n",
    "    print(store[val])\n",
    "else:\n",
    "    print(\"la valeur n'existe pas\")"
   ]
  },
  {
   "cell_type": "markdown",
   "metadata": {},
   "source": [
    "3) laissez l'utilisateur rentrer son age et retourner:\n",
    "  - enfant si -12\n",
    "  - ado si -16\n",
    "  - jeune adulte si -20\n",
    "  - adulte -35\n",
    "  - senior +60 <a/>  \n",
    "  bien sûr persone ne devra avoir plusieur categorie"
   ]
  },
  {
   "cell_type": "code",
   "execution_count": 121,
   "metadata": {},
   "outputs": [
    {
     "name": "stdout",
     "output_type": "stream",
     "text": [
      "quel est ton âge ?23\n"
     ]
    },
    {
     "ename": "TypeError",
     "evalue": "'<' not supported between instances of 'str' and 'int'",
     "output_type": "error",
     "traceback": [
      "\u001b[1;31m---------------------------------------------------------------------------\u001b[0m",
      "\u001b[1;31mTypeError\u001b[0m                                 Traceback (most recent call last)",
      "\u001b[1;32m<ipython-input-121-fa8210d31763>\u001b[0m in \u001b[0;36m<module>\u001b[1;34m\u001b[0m\n\u001b[0;32m      1\u001b[0m \u001b[0mage\u001b[0m\u001b[1;33m=\u001b[0m\u001b[0minput\u001b[0m\u001b[1;33m(\u001b[0m\u001b[1;34m\"quel est ton âge ?\"\u001b[0m\u001b[1;33m)\u001b[0m\u001b[1;33m\u001b[0m\u001b[1;33m\u001b[0m\u001b[0m\n\u001b[1;32m----> 2\u001b[1;33m \u001b[1;32mif\u001b[0m \u001b[0mage\u001b[0m \u001b[1;33m<\u001b[0m\u001b[1;36m12\u001b[0m \u001b[1;33m:\u001b[0m\u001b[1;33m\u001b[0m\u001b[1;33m\u001b[0m\u001b[0m\n\u001b[0m\u001b[0;32m      3\u001b[0m     \u001b[0mprint\u001b[0m\u001b[1;33m(\u001b[0m\u001b[1;34m\"enfant\"\u001b[0m\u001b[1;33m)\u001b[0m\u001b[1;33m\u001b[0m\u001b[1;33m\u001b[0m\u001b[0m\n\u001b[0;32m      4\u001b[0m \u001b[1;32melif\u001b[0m \u001b[0mage\u001b[0m \u001b[1;33m<\u001b[0m \u001b[1;36m16\u001b[0m\u001b[1;33m:\u001b[0m\u001b[1;33m\u001b[0m\u001b[1;33m\u001b[0m\u001b[0m\n\u001b[0;32m      5\u001b[0m     \u001b[0mprint\u001b[0m\u001b[1;33m(\u001b[0m\u001b[1;34m\"ado\"\u001b[0m\u001b[1;33m)\u001b[0m\u001b[1;33m\u001b[0m\u001b[1;33m\u001b[0m\u001b[0m\n",
      "\u001b[1;31mTypeError\u001b[0m: '<' not supported between instances of 'str' and 'int'"
     ]
    }
   ],
   "source": [
    "age=input(\"quel est ton âge ?\")\n",
    "\n",
    "if age <12 :\n",
    "    print(\"enfant\")\n",
    "elif age < 16:\n",
    "    print(\"ado\")\n",
    "elif age < 20:\n",
    "    print(\"jeune adulte\")\n",
    "elif age < 35:\n",
    "    print(\"adulte\")\n",
    "elif age > 60:\n",
    "    print(\"senior\")\n"
   ]
  },
  {
   "cell_type": "markdown",
   "metadata": {},
   "source": [
    "## les Fonctions"
   ]
  },
  {
   "cell_type": "markdown",
   "metadata": {},
   "source": [
    "1) creer une fonction qui retourne l'inverse d'un mot/phrase"
   ]
  },
  {
   "cell_type": "code",
   "execution_count": null,
   "metadata": {},
   "outputs": [],
   "source": []
  },
  {
   "cell_type": "markdown",
   "metadata": {},
   "source": [
    "2) creer une fonction qui fusionne 2 dictionnaire"
   ]
  },
  {
   "cell_type": "code",
   "execution_count": null,
   "metadata": {},
   "outputs": [],
   "source": []
  },
  {
   "cell_type": "markdown",
   "metadata": {},
   "source": [
    "3) creer une fonction qui prend 2 mot en mots en parametre et qui renvoie true si c'est un anagramme"
   ]
  },
  {
   "cell_type": "code",
   "execution_count": null,
   "metadata": {},
   "outputs": [],
   "source": []
  },
  {
   "cell_type": "markdown",
   "metadata": {},
   "source": [
    "4) creer un fonction qui prend en argument:\n",
    "  - un operateur ()\n",
    "  - une premiere valeur\n",
    "  - une seconde valeur <a/>  \n",
    "et retourne le resultat de l operation souhaité ou none si l'opération n'existe pas"
   ]
  },
  {
   "cell_type": "code",
   "execution_count": null,
   "metadata": {},
   "outputs": [],
   "source": []
  },
  {
   "cell_type": "markdown",
   "metadata": {},
   "source": [
    "**Bonus**  \n",
    "  - mettez toutes ses fonctions dans un fichier externe et importez le comme un module"
   ]
  }
 ],
 "metadata": {
  "kernelspec": {
   "display_name": "Python 3",
   "language": "python",
   "name": "python3"
  },
  "language_info": {
   "codemirror_mode": {
    "name": "ipython",
    "version": 3
   },
   "file_extension": ".py",
   "mimetype": "text/x-python",
   "name": "python",
   "nbconvert_exporter": "python",
   "pygments_lexer": "ipython3",
   "version": "3.8.3"
  },
  "varInspector": {
   "cols": {
    "lenName": 16,
    "lenType": 16,
    "lenVar": 40
   },
   "kernels_config": {
    "python": {
     "delete_cmd_postfix": "",
     "delete_cmd_prefix": "del ",
     "library": "var_list.py",
     "varRefreshCmd": "print(var_dic_list())"
    },
    "r": {
     "delete_cmd_postfix": ") ",
     "delete_cmd_prefix": "rm(",
     "library": "var_list.r",
     "varRefreshCmd": "cat(var_dic_list()) "
    }
   },
   "types_to_exclude": [
    "module",
    "function",
    "builtin_function_or_method",
    "instance",
    "_Feature"
   ],
   "window_display": false
  }
 },
 "nbformat": 4,
 "nbformat_minor": 2
}
